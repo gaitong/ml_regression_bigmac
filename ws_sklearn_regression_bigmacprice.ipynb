{
  "nbformat": 4,
  "nbformat_minor": 0,
  "metadata": {
    "colab": {
      "provenance": [],
      "gpuType": "T4"
    },
    "kernelspec": {
      "name": "python3",
      "display_name": "Python 3"
    },
    "language_info": {
      "name": "python"
    },
    "accelerator": "GPU"
  },
  "cells": [
    {
      "cell_type": "code",
      "source": [
        "import pandas as pd\n",
        "import matplotlib.pyplot as plt\n",
        "import seaborn as sns\n",
        "import numpy as np"
      ],
      "metadata": {
        "id": "iP_2Pm8p0RHh"
      },
      "execution_count": 60,
      "outputs": []
    },
    {
      "cell_type": "markdown",
      "source": [
        "โหลด dataset ที่นี่ github TheEconomist/big-mac-data หรือ\n",
        "\n",
        "https://github.com/TheEconomist/big-mac-data/blob/master/output-data/big-mac-adjusted-index.csv"
      ],
      "metadata": {
        "id": "RLD6Nk15WdZI"
      }
    },
    {
      "cell_type": "code",
      "source": [
        "url = 'https://raw.githubusercontent.com/TheEconomist/big-mac-data/master/output-data/big-mac-adjusted-index.csv'\n",
        "df=pd.read_csv(url, parse_dates=['date'])\n",
        "df.head()"
      ],
      "metadata": {
        "colab": {
          "base_uri": "https://localhost:8080/",
          "height": 206
        },
        "id": "zj2P9CJ6FeTu",
        "outputId": "0a04540b-0c49-4701-f119-f0c82d34a8f3"
      },
      "execution_count": 61,
      "outputs": [
        {
          "output_type": "execute_result",
          "data": {
            "text/plain": [
              "        date iso_a3 currency_code       name  local_price  dollar_ex  \\\n",
              "0 2000-04-01    ARG           ARS  Argentina         2.50   1.000000   \n",
              "1 2000-04-01    AUS           AUD  Australia         2.59   1.680000   \n",
              "2 2000-04-01    BRA           BRL     Brazil         2.95   1.790000   \n",
              "3 2000-04-01    GBR           GBP    Britain         1.90   0.632911   \n",
              "4 2000-04-01    CAN           CAD     Canada         2.85   1.470000   \n",
              "\n",
              "   dollar_price    GDP_bigmac  adj_price      USD      EUR      GBP      JPY  \\\n",
              "0      2.500000   7803.328512   1.928167  0.39739  0.16547 -0.06363  0.10547   \n",
              "1      1.541667  29165.768649   2.317131 -0.28293 -0.40194 -0.51950 -0.43273   \n",
              "2      1.648045   4822.738983   1.873897 -0.05214 -0.20945 -0.36485 -0.25015   \n",
              "3      3.002000  20976.720505   2.168026  0.49234  0.24466  0.00000  0.18059   \n",
              "4      1.938776  26087.329235   2.261079 -0.07587 -0.22924 -0.38075 -0.26892   \n",
              "\n",
              "       CNY  \n",
              "0  0.96883  \n",
              "1  0.01031  \n",
              "2  0.33548  \n",
              "3  1.10262  \n",
              "4  0.30204  "
            ],
            "text/html": [
              "\n",
              "  <div id=\"df-c3f12ecf-1f4f-4343-bdcb-70b781bbf64b\" class=\"colab-df-container\">\n",
              "    <div>\n",
              "<style scoped>\n",
              "    .dataframe tbody tr th:only-of-type {\n",
              "        vertical-align: middle;\n",
              "    }\n",
              "\n",
              "    .dataframe tbody tr th {\n",
              "        vertical-align: top;\n",
              "    }\n",
              "\n",
              "    .dataframe thead th {\n",
              "        text-align: right;\n",
              "    }\n",
              "</style>\n",
              "<table border=\"1\" class=\"dataframe\">\n",
              "  <thead>\n",
              "    <tr style=\"text-align: right;\">\n",
              "      <th></th>\n",
              "      <th>date</th>\n",
              "      <th>iso_a3</th>\n",
              "      <th>currency_code</th>\n",
              "      <th>name</th>\n",
              "      <th>local_price</th>\n",
              "      <th>dollar_ex</th>\n",
              "      <th>dollar_price</th>\n",
              "      <th>GDP_bigmac</th>\n",
              "      <th>adj_price</th>\n",
              "      <th>USD</th>\n",
              "      <th>EUR</th>\n",
              "      <th>GBP</th>\n",
              "      <th>JPY</th>\n",
              "      <th>CNY</th>\n",
              "    </tr>\n",
              "  </thead>\n",
              "  <tbody>\n",
              "    <tr>\n",
              "      <th>0</th>\n",
              "      <td>2000-04-01</td>\n",
              "      <td>ARG</td>\n",
              "      <td>ARS</td>\n",
              "      <td>Argentina</td>\n",
              "      <td>2.50</td>\n",
              "      <td>1.000000</td>\n",
              "      <td>2.500000</td>\n",
              "      <td>7803.328512</td>\n",
              "      <td>1.928167</td>\n",
              "      <td>0.39739</td>\n",
              "      <td>0.16547</td>\n",
              "      <td>-0.06363</td>\n",
              "      <td>0.10547</td>\n",
              "      <td>0.96883</td>\n",
              "    </tr>\n",
              "    <tr>\n",
              "      <th>1</th>\n",
              "      <td>2000-04-01</td>\n",
              "      <td>AUS</td>\n",
              "      <td>AUD</td>\n",
              "      <td>Australia</td>\n",
              "      <td>2.59</td>\n",
              "      <td>1.680000</td>\n",
              "      <td>1.541667</td>\n",
              "      <td>29165.768649</td>\n",
              "      <td>2.317131</td>\n",
              "      <td>-0.28293</td>\n",
              "      <td>-0.40194</td>\n",
              "      <td>-0.51950</td>\n",
              "      <td>-0.43273</td>\n",
              "      <td>0.01031</td>\n",
              "    </tr>\n",
              "    <tr>\n",
              "      <th>2</th>\n",
              "      <td>2000-04-01</td>\n",
              "      <td>BRA</td>\n",
              "      <td>BRL</td>\n",
              "      <td>Brazil</td>\n",
              "      <td>2.95</td>\n",
              "      <td>1.790000</td>\n",
              "      <td>1.648045</td>\n",
              "      <td>4822.738983</td>\n",
              "      <td>1.873897</td>\n",
              "      <td>-0.05214</td>\n",
              "      <td>-0.20945</td>\n",
              "      <td>-0.36485</td>\n",
              "      <td>-0.25015</td>\n",
              "      <td>0.33548</td>\n",
              "    </tr>\n",
              "    <tr>\n",
              "      <th>3</th>\n",
              "      <td>2000-04-01</td>\n",
              "      <td>GBR</td>\n",
              "      <td>GBP</td>\n",
              "      <td>Britain</td>\n",
              "      <td>1.90</td>\n",
              "      <td>0.632911</td>\n",
              "      <td>3.002000</td>\n",
              "      <td>20976.720505</td>\n",
              "      <td>2.168026</td>\n",
              "      <td>0.49234</td>\n",
              "      <td>0.24466</td>\n",
              "      <td>0.00000</td>\n",
              "      <td>0.18059</td>\n",
              "      <td>1.10262</td>\n",
              "    </tr>\n",
              "    <tr>\n",
              "      <th>4</th>\n",
              "      <td>2000-04-01</td>\n",
              "      <td>CAN</td>\n",
              "      <td>CAD</td>\n",
              "      <td>Canada</td>\n",
              "      <td>2.85</td>\n",
              "      <td>1.470000</td>\n",
              "      <td>1.938776</td>\n",
              "      <td>26087.329235</td>\n",
              "      <td>2.261079</td>\n",
              "      <td>-0.07587</td>\n",
              "      <td>-0.22924</td>\n",
              "      <td>-0.38075</td>\n",
              "      <td>-0.26892</td>\n",
              "      <td>0.30204</td>\n",
              "    </tr>\n",
              "  </tbody>\n",
              "</table>\n",
              "</div>\n",
              "    <div class=\"colab-df-buttons\">\n",
              "\n",
              "  <div class=\"colab-df-container\">\n",
              "    <button class=\"colab-df-convert\" onclick=\"convertToInteractive('df-c3f12ecf-1f4f-4343-bdcb-70b781bbf64b')\"\n",
              "            title=\"Convert this dataframe to an interactive table.\"\n",
              "            style=\"display:none;\">\n",
              "\n",
              "  <svg xmlns=\"http://www.w3.org/2000/svg\" height=\"24px\" viewBox=\"0 -960 960 960\">\n",
              "    <path d=\"M120-120v-720h720v720H120Zm60-500h600v-160H180v160Zm220 220h160v-160H400v160Zm0 220h160v-160H400v160ZM180-400h160v-160H180v160Zm440 0h160v-160H620v160ZM180-180h160v-160H180v160Zm440 0h160v-160H620v160Z\"/>\n",
              "  </svg>\n",
              "    </button>\n",
              "\n",
              "  <style>\n",
              "    .colab-df-container {\n",
              "      display:flex;\n",
              "      gap: 12px;\n",
              "    }\n",
              "\n",
              "    .colab-df-convert {\n",
              "      background-color: #E8F0FE;\n",
              "      border: none;\n",
              "      border-radius: 50%;\n",
              "      cursor: pointer;\n",
              "      display: none;\n",
              "      fill: #1967D2;\n",
              "      height: 32px;\n",
              "      padding: 0 0 0 0;\n",
              "      width: 32px;\n",
              "    }\n",
              "\n",
              "    .colab-df-convert:hover {\n",
              "      background-color: #E2EBFA;\n",
              "      box-shadow: 0px 1px 2px rgba(60, 64, 67, 0.3), 0px 1px 3px 1px rgba(60, 64, 67, 0.15);\n",
              "      fill: #174EA6;\n",
              "    }\n",
              "\n",
              "    .colab-df-buttons div {\n",
              "      margin-bottom: 4px;\n",
              "    }\n",
              "\n",
              "    [theme=dark] .colab-df-convert {\n",
              "      background-color: #3B4455;\n",
              "      fill: #D2E3FC;\n",
              "    }\n",
              "\n",
              "    [theme=dark] .colab-df-convert:hover {\n",
              "      background-color: #434B5C;\n",
              "      box-shadow: 0px 1px 3px 1px rgba(0, 0, 0, 0.15);\n",
              "      filter: drop-shadow(0px 1px 2px rgba(0, 0, 0, 0.3));\n",
              "      fill: #FFFFFF;\n",
              "    }\n",
              "  </style>\n",
              "\n",
              "    <script>\n",
              "      const buttonEl =\n",
              "        document.querySelector('#df-c3f12ecf-1f4f-4343-bdcb-70b781bbf64b button.colab-df-convert');\n",
              "      buttonEl.style.display =\n",
              "        google.colab.kernel.accessAllowed ? 'block' : 'none';\n",
              "\n",
              "      async function convertToInteractive(key) {\n",
              "        const element = document.querySelector('#df-c3f12ecf-1f4f-4343-bdcb-70b781bbf64b');\n",
              "        const dataTable =\n",
              "          await google.colab.kernel.invokeFunction('convertToInteractive',\n",
              "                                                    [key], {});\n",
              "        if (!dataTable) return;\n",
              "\n",
              "        const docLinkHtml = 'Like what you see? Visit the ' +\n",
              "          '<a target=\"_blank\" href=https://colab.research.google.com/notebooks/data_table.ipynb>data table notebook</a>'\n",
              "          + ' to learn more about interactive tables.';\n",
              "        element.innerHTML = '';\n",
              "        dataTable['output_type'] = 'display_data';\n",
              "        await google.colab.output.renderOutput(dataTable, element);\n",
              "        const docLink = document.createElement('div');\n",
              "        docLink.innerHTML = docLinkHtml;\n",
              "        element.appendChild(docLink);\n",
              "      }\n",
              "    </script>\n",
              "  </div>\n",
              "\n",
              "\n",
              "<div id=\"df-1b5e9eb4-a321-41c0-b281-b5119c6c9655\">\n",
              "  <button class=\"colab-df-quickchart\" onclick=\"quickchart('df-1b5e9eb4-a321-41c0-b281-b5119c6c9655')\"\n",
              "            title=\"Suggest charts\"\n",
              "            style=\"display:none;\">\n",
              "\n",
              "<svg xmlns=\"http://www.w3.org/2000/svg\" height=\"24px\"viewBox=\"0 0 24 24\"\n",
              "     width=\"24px\">\n",
              "    <g>\n",
              "        <path d=\"M19 3H5c-1.1 0-2 .9-2 2v14c0 1.1.9 2 2 2h14c1.1 0 2-.9 2-2V5c0-1.1-.9-2-2-2zM9 17H7v-7h2v7zm4 0h-2V7h2v10zm4 0h-2v-4h2v4z\"/>\n",
              "    </g>\n",
              "</svg>\n",
              "  </button>\n",
              "\n",
              "<style>\n",
              "  .colab-df-quickchart {\n",
              "      --bg-color: #E8F0FE;\n",
              "      --fill-color: #1967D2;\n",
              "      --hover-bg-color: #E2EBFA;\n",
              "      --hover-fill-color: #174EA6;\n",
              "      --disabled-fill-color: #AAA;\n",
              "      --disabled-bg-color: #DDD;\n",
              "  }\n",
              "\n",
              "  [theme=dark] .colab-df-quickchart {\n",
              "      --bg-color: #3B4455;\n",
              "      --fill-color: #D2E3FC;\n",
              "      --hover-bg-color: #434B5C;\n",
              "      --hover-fill-color: #FFFFFF;\n",
              "      --disabled-bg-color: #3B4455;\n",
              "      --disabled-fill-color: #666;\n",
              "  }\n",
              "\n",
              "  .colab-df-quickchart {\n",
              "    background-color: var(--bg-color);\n",
              "    border: none;\n",
              "    border-radius: 50%;\n",
              "    cursor: pointer;\n",
              "    display: none;\n",
              "    fill: var(--fill-color);\n",
              "    height: 32px;\n",
              "    padding: 0;\n",
              "    width: 32px;\n",
              "  }\n",
              "\n",
              "  .colab-df-quickchart:hover {\n",
              "    background-color: var(--hover-bg-color);\n",
              "    box-shadow: 0 1px 2px rgba(60, 64, 67, 0.3), 0 1px 3px 1px rgba(60, 64, 67, 0.15);\n",
              "    fill: var(--button-hover-fill-color);\n",
              "  }\n",
              "\n",
              "  .colab-df-quickchart-complete:disabled,\n",
              "  .colab-df-quickchart-complete:disabled:hover {\n",
              "    background-color: var(--disabled-bg-color);\n",
              "    fill: var(--disabled-fill-color);\n",
              "    box-shadow: none;\n",
              "  }\n",
              "\n",
              "  .colab-df-spinner {\n",
              "    border: 2px solid var(--fill-color);\n",
              "    border-color: transparent;\n",
              "    border-bottom-color: var(--fill-color);\n",
              "    animation:\n",
              "      spin 1s steps(1) infinite;\n",
              "  }\n",
              "\n",
              "  @keyframes spin {\n",
              "    0% {\n",
              "      border-color: transparent;\n",
              "      border-bottom-color: var(--fill-color);\n",
              "      border-left-color: var(--fill-color);\n",
              "    }\n",
              "    20% {\n",
              "      border-color: transparent;\n",
              "      border-left-color: var(--fill-color);\n",
              "      border-top-color: var(--fill-color);\n",
              "    }\n",
              "    30% {\n",
              "      border-color: transparent;\n",
              "      border-left-color: var(--fill-color);\n",
              "      border-top-color: var(--fill-color);\n",
              "      border-right-color: var(--fill-color);\n",
              "    }\n",
              "    40% {\n",
              "      border-color: transparent;\n",
              "      border-right-color: var(--fill-color);\n",
              "      border-top-color: var(--fill-color);\n",
              "    }\n",
              "    60% {\n",
              "      border-color: transparent;\n",
              "      border-right-color: var(--fill-color);\n",
              "    }\n",
              "    80% {\n",
              "      border-color: transparent;\n",
              "      border-right-color: var(--fill-color);\n",
              "      border-bottom-color: var(--fill-color);\n",
              "    }\n",
              "    90% {\n",
              "      border-color: transparent;\n",
              "      border-bottom-color: var(--fill-color);\n",
              "    }\n",
              "  }\n",
              "</style>\n",
              "\n",
              "  <script>\n",
              "    async function quickchart(key) {\n",
              "      const quickchartButtonEl =\n",
              "        document.querySelector('#' + key + ' button');\n",
              "      quickchartButtonEl.disabled = true;  // To prevent multiple clicks.\n",
              "      quickchartButtonEl.classList.add('colab-df-spinner');\n",
              "      try {\n",
              "        const charts = await google.colab.kernel.invokeFunction(\n",
              "            'suggestCharts', [key], {});\n",
              "      } catch (error) {\n",
              "        console.error('Error during call to suggestCharts:', error);\n",
              "      }\n",
              "      quickchartButtonEl.classList.remove('colab-df-spinner');\n",
              "      quickchartButtonEl.classList.add('colab-df-quickchart-complete');\n",
              "    }\n",
              "    (() => {\n",
              "      let quickchartButtonEl =\n",
              "        document.querySelector('#df-1b5e9eb4-a321-41c0-b281-b5119c6c9655 button');\n",
              "      quickchartButtonEl.style.display =\n",
              "        google.colab.kernel.accessAllowed ? 'block' : 'none';\n",
              "    })();\n",
              "  </script>\n",
              "</div>\n",
              "    </div>\n",
              "  </div>\n"
            ],
            "application/vnd.google.colaboratory.intrinsic+json": {
              "type": "dataframe",
              "variable_name": "df",
              "summary": "{\n  \"name\": \"df\",\n  \"rows\": 1489,\n  \"fields\": [\n    {\n      \"column\": \"date\",\n      \"properties\": {\n        \"dtype\": \"date\",\n        \"min\": \"2000-04-01 00:00:00\",\n        \"max\": \"2023-07-01 00:00:00\",\n        \"num_unique_values\": 39,\n        \"samples\": [\n          \"2021-01-01 00:00:00\",\n          \"2022-07-01 00:00:00\",\n          \"2004-05-01 00:00:00\"\n        ],\n        \"semantic_type\": \"\",\n        \"description\": \"\"\n      }\n    },\n    {\n      \"column\": \"iso_a3\",\n      \"properties\": {\n        \"dtype\": \"category\",\n        \"num_unique_values\": 54,\n        \"samples\": [\n          \"RUS\",\n          \"LKA\",\n          \"ROU\"\n        ],\n        \"semantic_type\": \"\",\n        \"description\": \"\"\n      }\n    },\n    {\n      \"column\": \"currency_code\",\n      \"properties\": {\n        \"dtype\": \"category\",\n        \"num_unique_values\": 54,\n        \"samples\": [\n          \"RUB\",\n          \"LKR\",\n          \"RON\"\n        ],\n        \"semantic_type\": \"\",\n        \"description\": \"\"\n      }\n    },\n    {\n      \"column\": \"name\",\n      \"properties\": {\n        \"dtype\": \"category\",\n        \"num_unique_values\": 54,\n        \"samples\": [\n          \"Russia\",\n          \"Sri Lanka\",\n          \"Romania\"\n        ],\n        \"semantic_type\": \"\",\n        \"description\": \"\"\n      }\n    },\n    {\n      \"column\": \"local_price\",\n      \"properties\": {\n        \"dtype\": \"number\",\n        \"std\": 175055.5384471959,\n        \"min\": 1.1,\n        \"max\": 4000000.0,\n        \"num_unique_values\": 620,\n        \"samples\": [\n          16000.0,\n          4.81,\n          3.19\n        ],\n        \"semantic_type\": \"\",\n        \"description\": \"\"\n      }\n    },\n    {\n      \"column\": \"dollar_ex\",\n      \"properties\": {\n        \"dtype\": \"number\",\n        \"std\": 66853.29618236367,\n        \"min\": 0.3008,\n        \"max\": 1600500.0,\n        \"num_unique_values\": 1396,\n        \"samples\": [\n          3.85875,\n          3.80775,\n          17.79075\n        ],\n        \"semantic_type\": \"\",\n        \"description\": \"\"\n      }\n    },\n    {\n      \"column\": \"dollar_price\",\n      \"properties\": {\n        \"dtype\": \"number\",\n        \"std\": 1.300495357070468,\n        \"min\": 0.639965868487014,\n        \"max\": 8.31170750177778,\n        \"num_unique_values\": 1458,\n        \"samples\": [\n          2.64750081706245,\n          1.9865905140303,\n          3.18870696141306\n        ],\n        \"semantic_type\": \"\",\n        \"description\": \"\"\n      }\n    },\n    {\n      \"column\": \"GDP_bigmac\",\n      \"properties\": {\n        \"dtype\": \"number\",\n        \"std\": 20775.77396616028,\n        \"min\": 0.002214358,\n        \"max\": 122483.546074286,\n        \"num_unique_values\": 1409,\n        \"samples\": [\n          38747.1400938462,\n          6964.31445416129,\n          62895.9883600655\n        ],\n        \"semantic_type\": \"\",\n        \"description\": \"\"\n      }\n    },\n    {\n      \"column\": \"adj_price\",\n      \"properties\": {\n        \"dtype\": \"number\",\n        \"std\": 0.8220071976647759,\n        \"min\": 1.55176173414461,\n        \"max\": 5.80467800375018,\n        \"num_unique_values\": 1489,\n        \"samples\": [\n          3.29856901495107,\n          2.54284494558887,\n          2.64673413654274\n        ],\n        \"semantic_type\": \"\",\n        \"description\": \"\"\n      }\n    },\n    {\n      \"column\": \"USD\",\n      \"properties\": {\n        \"dtype\": \"number\",\n        \"std\": 0.3521660199254668,\n        \"min\": -0.73737,\n        \"max\": 1.92434,\n        \"num_unique_values\": 1442,\n        \"samples\": [\n          0.01382,\n          0.08243,\n          -0.17744\n        ],\n        \"semantic_type\": \"\",\n        \"description\": \"\"\n      }\n    },\n    {\n      \"column\": \"EUR\",\n      \"properties\": {\n        \"dtype\": \"number\",\n        \"std\": 0.24679072595074455,\n        \"min\": -0.83083,\n        \"max\": 0.82358,\n        \"num_unique_values\": 1432,\n        \"samples\": [\n          -0.10794,\n          -0.16822,\n          -0.08492\n        ],\n        \"semantic_type\": \"\",\n        \"description\": \"\"\n      }\n    },\n    {\n      \"column\": \"GBP\",\n      \"properties\": {\n        \"dtype\": \"number\",\n        \"std\": 0.2900001747927122,\n        \"min\": -0.82636,\n        \"max\": 1.15456,\n        \"num_unique_values\": 1444,\n        \"samples\": [\n          0.59026,\n          -0.33368,\n          -0.4892\n        ],\n        \"semantic_type\": \"\",\n        \"description\": \"\"\n      }\n    },\n    {\n      \"column\": \"JPY\",\n      \"properties\": {\n        \"dtype\": \"number\",\n        \"std\": 0.4212948746653025,\n        \"min\": -0.72189,\n        \"max\": 2.71553,\n        \"num_unique_values\": 1442,\n        \"samples\": [\n          -0.10486,\n          1.32621,\n          -0.29383\n        ],\n        \"semantic_type\": \"\",\n        \"description\": \"\"\n      }\n    },\n    {\n      \"column\": \"CNY\",\n      \"properties\": {\n        \"dtype\": \"number\",\n        \"std\": 0.4763533729951327,\n        \"min\": -0.64573,\n        \"max\": 3.14208,\n        \"num_unique_values\": 1445,\n        \"samples\": [\n          0.31411,\n          0.96721,\n          0.22233\n        ],\n        \"semantic_type\": \"\",\n        \"description\": \"\"\n      }\n    }\n  ]\n}"
            }
          },
          "metadata": {},
          "execution_count": 61
        }
      ]
    },
    {
      "cell_type": "code",
      "source": [
        "df.info()"
      ],
      "metadata": {
        "colab": {
          "base_uri": "https://localhost:8080/"
        },
        "id": "a5fE5X9ETXGh",
        "outputId": "d95e4b94-0e8b-4dfc-fa74-e1c1b2d6cec6"
      },
      "execution_count": 62,
      "outputs": [
        {
          "output_type": "stream",
          "name": "stdout",
          "text": [
            "<class 'pandas.core.frame.DataFrame'>\n",
            "RangeIndex: 1489 entries, 0 to 1488\n",
            "Data columns (total 14 columns):\n",
            " #   Column         Non-Null Count  Dtype         \n",
            "---  ------         --------------  -----         \n",
            " 0   date           1489 non-null   datetime64[ns]\n",
            " 1   iso_a3         1489 non-null   object        \n",
            " 2   currency_code  1489 non-null   object        \n",
            " 3   name           1489 non-null   object        \n",
            " 4   local_price    1489 non-null   float64       \n",
            " 5   dollar_ex      1489 non-null   float64       \n",
            " 6   dollar_price   1489 non-null   float64       \n",
            " 7   GDP_bigmac     1489 non-null   float64       \n",
            " 8   adj_price      1489 non-null   float64       \n",
            " 9   USD            1489 non-null   float64       \n",
            " 10  EUR            1489 non-null   float64       \n",
            " 11  GBP            1489 non-null   float64       \n",
            " 12  JPY            1489 non-null   float64       \n",
            " 13  CNY            1489 non-null   float64       \n",
            "dtypes: datetime64[ns](1), float64(10), object(3)\n",
            "memory usage: 163.0+ KB\n"
          ]
        }
      ]
    },
    {
      "cell_type": "code",
      "source": [
        "# df=df[(df['date'].dt.year==2023)&(df['date'].dt.month==1)]"
      ],
      "metadata": {
        "id": "BA4pmU1YZnvl"
      },
      "execution_count": 63,
      "outputs": []
    },
    {
      "cell_type": "code",
      "source": [
        "plt.scatter(x='GDP_bigmac', y='dollar_price', data=df)"
      ],
      "metadata": {
        "colab": {
          "base_uri": "https://localhost:8080/",
          "height": 448
        },
        "id": "WyB79z3mpCLS",
        "outputId": "9a36c6b5-924f-4a0f-ad46-8542c604b129"
      },
      "execution_count": 64,
      "outputs": [
        {
          "output_type": "execute_result",
          "data": {
            "text/plain": [
              "<matplotlib.collections.PathCollection at 0x7b7194dc32e0>"
            ]
          },
          "metadata": {},
          "execution_count": 64
        },
        {
          "output_type": "display_data",
          "data": {
            "text/plain": [
              "<Figure size 640x480 with 1 Axes>"
            ],
            "image/png": "[encoded data removed]"
          },
          "metadata": {}
        }
      ]
    },
    {
      "cell_type": "code",
      "source": [
        "from sklearn.linear_model import LinearRegression"
      ],
      "metadata": {
        "id": "HNdpZRb8ZHRM"
      },
      "execution_count": 65,
      "outputs": []
    },
    {
      "cell_type": "code",
      "source": [
        "model = LinearRegression()"
      ],
      "metadata": {
        "id": "4lYa9CZqbHgR"
      },
      "execution_count": 66,
      "outputs": []
    },
    {
      "cell_type": "code",
      "source": [
        "X = df[['GDP_bigmac']] #expect 2D array\n",
        "y = df['dollar_price']"
      ],
      "metadata": {
        "id": "mgAdwy6gbMXs"
      },
      "execution_count": 67,
      "outputs": []
    },
    {
      "cell_type": "code",
      "source": [
        "# from sklearn.model_selection import train_test_split\n",
        "# x_train, x_test, y_train, y_test = train_test_split(X, y, test_size=0.2) #default 0.25 train 75 & test 25"
      ],
      "metadata": {
        "id": "jELiGhjJbjLP"
      },
      "execution_count": 68,
      "outputs": []
    },
    {
      "cell_type": "code",
      "source": [
        "model.fit(X,y)"
      ],
      "metadata": {
        "colab": {
          "base_uri": "https://localhost:8080/",
          "height": 75
        },
        "id": "_hu1_zlacPRg",
        "outputId": "d1681661-057f-4c71-ae86-4aee40d08d73"
      },
      "execution_count": 69,
      "outputs": [
        {
          "output_type": "execute_result",
          "data": {
            "text/plain": [
              "LinearRegression()"
            ],
            "text/html": [
              "<style>#sk-container-id-4 {color: black;background-color: white;}#sk-container-id-4 pre{padding: 0;}#sk-container-id-4 div.sk-toggleable {background-color: white;}#sk-container-id-4 label.sk-toggleable__label {cursor: pointer;display: block;width: 100%;margin-bottom: 0;padding: 0.3em;box-sizing: border-box;text-align: center;}#sk-container-id-4 label.sk-toggleable__label-arrow:before {content: \"▸\";float: left;margin-right: 0.25em;color: #696969;}#sk-container-id-4 label.sk-toggleable__label-arrow:hover:before {color: black;}#sk-container-id-4 div.sk-estimator:hover label.sk-toggleable__label-arrow:before {color: black;}#sk-container-id-4 div.sk-toggleable__content {max-height: 0;max-width: 0;overflow: hidden;text-align: left;background-color: #f0f8ff;}#sk-container-id-4 div.sk-toggleable__content pre {margin: 0.2em;color: black;border-radius: 0.25em;background-color: #f0f8ff;}#sk-container-id-4 input.sk-toggleable__control:checked~div.sk-toggleable__content {max-height: 200px;max-width: 100%;overflow: auto;}#sk-container-id-4 input.sk-toggleable__control:checked~label.sk-toggleable__label-arrow:before {content: \"▾\";}#sk-container-id-4 div.sk-estimator input.sk-toggleable__control:checked~label.sk-toggleable__label {background-color: #d4ebff;}#sk-container-id-4 div.sk-label input.sk-toggleable__control:checked~label.sk-toggleable__label {background-color: #d4ebff;}#sk-container-id-4 input.sk-hidden--visually {border: 0;clip: rect(1px 1px 1px 1px);clip: rect(1px, 1px, 1px, 1px);height: 1px;margin: -1px;overflow: hidden;padding: 0;position: absolute;width: 1px;}#sk-container-id-4 div.sk-estimator {font-family: monospace;background-color: #f0f8ff;border: 1px dotted black;border-radius: 0.25em;box-sizing: border-box;margin-bottom: 0.5em;}#sk-container-id-4 div.sk-estimator:hover {background-color: #d4ebff;}#sk-container-id-4 div.sk-parallel-item::after {content: \"\";width: 100%;border-bottom: 1px solid gray;flex-grow: 1;}#sk-container-id-4 div.sk-label:hover label.sk-toggleable__label {background-color: #d4ebff;}#sk-container-id-4 div.sk-serial::before {content: \"\";position: absolute;border-left: 1px solid gray;box-sizing: border-box;top: 0;bottom: 0;left: 50%;z-index: 0;}#sk-container-id-4 div.sk-serial {display: flex;flex-direction: column;align-items: center;background-color: white;padding-right: 0.2em;padding-left: 0.2em;position: relative;}#sk-container-id-4 div.sk-item {position: relative;z-index: 1;}#sk-container-id-4 div.sk-parallel {display: flex;align-items: stretch;justify-content: center;background-color: white;position: relative;}#sk-container-id-4 div.sk-item::before, #sk-container-id-4 div.sk-parallel-item::before {content: \"\";position: absolute;border-left: 1px solid gray;box-sizing: border-box;top: 0;bottom: 0;left: 50%;z-index: -1;}#sk-container-id-4 div.sk-parallel-item {display: flex;flex-direction: column;z-index: 1;position: relative;background-color: white;}#sk-container-id-4 div.sk-parallel-item:first-child::after {align-self: flex-end;width: 50%;}#sk-container-id-4 div.sk-parallel-item:last-child::after {align-self: flex-start;width: 50%;}#sk-container-id-4 div.sk-parallel-item:only-child::after {width: 0;}#sk-container-id-4 div.sk-dashed-wrapped {border: 1px dashed gray;margin: 0 0.4em 0.5em 0.4em;box-sizing: border-box;padding-bottom: 0.4em;background-color: white;}#sk-container-id-4 div.sk-label label {font-family: monospace;font-weight: bold;display: inline-block;line-height: 1.2em;}#sk-container-id-4 div.sk-label-container {text-align: center;}#sk-container-id-4 div.sk-container {/* jupyter's `normalize.less` sets `[hidden] { display: none; }` but bootstrap.min.css set `[hidden] { display: none !important; }` so we also need the `!important` here to be able to override the default hidden behavior on the sphinx rendered scikit-learn.org. See: https://github.com/scikit-learn/scikit-learn/issues/21755 */display: inline-block !important;position: relative;}#sk-container-id-4 div.sk-text-repr-fallback {display: none;}</style><div id=\"sk-container-id-4\" class=\"sk-top-container\"><div class=\"sk-text-repr-fallback\"><pre>LinearRegression()</pre><b>In a Jupyter environment, please rerun this cell to show the HTML representation or trust the notebook. <br />On GitHub, the HTML representation is unable to render, please try loading this page with nbviewer.org.</b></div><div class=\"sk-container\" hidden><div class=\"sk-item\"><div class=\"sk-estimator sk-toggleable\"><input class=\"sk-toggleable__control sk-hidden--visually\" id=\"sk-estimator-id-4\" type=\"checkbox\" checked><label for=\"sk-estimator-id-4\" class=\"sk-toggleable__label sk-toggleable__label-arrow\">LinearRegression</label><div class=\"sk-toggleable__content\"><pre>LinearRegression()</pre></div></div></div></div></div>"
            ]
          },
          "metadata": {},
          "execution_count": 69
        }
      ]
    },
    {
      "cell_type": "code",
      "source": [
        "model.score(X,y) #ค่า R-Squared"
      ],
      "metadata": {
        "colab": {
          "base_uri": "https://localhost:8080/"
        },
        "id": "dOwLz_gqeljC",
        "outputId": "3aded38b-8fb9-4139-84a9-a31e16927e30"
      },
      "execution_count": 70,
      "outputs": [
        {
          "output_type": "execute_result",
          "data": {
            "text/plain": [
              "0.21540073413844385"
            ]
          },
          "metadata": {},
          "execution_count": 70
        }
      ]
    },
    {
      "cell_type": "code",
      "source": [
        "model.intercept_ #จุดตัดแกน y"
      ],
      "metadata": {
        "colab": {
          "base_uri": "https://localhost:8080/"
        },
        "id": "3l7QuMcFfnvF",
        "outputId": "44c2d59e-f31f-41d6-da84-f84e882b2c77"
      },
      "execution_count": 71,
      "outputs": [
        {
          "output_type": "execute_result",
          "data": {
            "text/plain": [
              "2.6542800665698216"
            ]
          },
          "metadata": {},
          "execution_count": 71
        }
      ]
    },
    {
      "cell_type": "code",
      "source": [
        "model.coef_ #ค่าความชัน m"
      ],
      "metadata": {
        "colab": {
          "base_uri": "https://localhost:8080/"
        },
        "id": "IJoqMtgZfwVe",
        "outputId": "f5236191-3068-40dd-861a-165a67f98515"
      },
      "execution_count": 72,
      "outputs": [
        {
          "output_type": "execute_result",
          "data": {
            "text/plain": [
              "array([2.9051943e-05])"
            ]
          },
          "metadata": {},
          "execution_count": 72
        }
      ]
    },
    {
      "cell_type": "markdown",
      "source": [
        "y = mx + c"
      ],
      "metadata": {
        "id": "0Tu_oJXqgmvO"
      }
    },
    {
      "cell_type": "code",
      "source": [
        "model.coef_ * 9000 + model.intercept_"
      ],
      "metadata": {
        "colab": {
          "base_uri": "https://localhost:8080/"
        },
        "id": "TsIWZ5bugFG4",
        "outputId": "c2f0c59d-e502-4859-d650-4b1ce158dfd6"
      },
      "execution_count": 73,
      "outputs": [
        {
          "output_type": "execute_result",
          "data": {
            "text/plain": [
              "array([2.91574755])"
            ]
          },
          "metadata": {},
          "execution_count": 73
        }
      ]
    },
    {
      "cell_type": "code",
      "source": [
        "model.predict([[9000]])"
      ],
      "metadata": {
        "colab": {
          "base_uri": "https://localhost:8080/"
        },
        "id": "E07oKL_Ig9u6",
        "outputId": "e77ae26d-1c6e-417e-e0ba-dfb3a91efb2e"
      },
      "execution_count": 74,
      "outputs": [
        {
          "output_type": "stream",
          "name": "stderr",
          "text": [
            "/usr/local/lib/python3.10/dist-packages/sklearn/base.py:439: UserWarning: X does not have valid feature names, but LinearRegression was fitted with feature names\n",
            "  warnings.warn(\n"
          ]
        },
        {
          "output_type": "execute_result",
          "data": {
            "text/plain": [
              "array([2.91574755])"
            ]
          },
          "metadata": {},
          "execution_count": 74
        }
      ]
    },
    {
      "cell_type": "code",
      "source": [
        "model.predict([[42500],[7500]])"
      ],
      "metadata": {
        "colab": {
          "base_uri": "https://localhost:8080/"
        },
        "id": "XKOzfbTrhGHX",
        "outputId": "155a806b-2c76-4680-aa76-11a825179fff"
      },
      "execution_count": 75,
      "outputs": [
        {
          "output_type": "stream",
          "name": "stderr",
          "text": [
            "/usr/local/lib/python3.10/dist-packages/sklearn/base.py:439: UserWarning: X does not have valid feature names, but LinearRegression was fitted with feature names\n",
            "  warnings.warn(\n"
          ]
        },
        {
          "output_type": "execute_result",
          "data": {
            "text/plain": [
              "array([3.88898765, 2.87216964])"
            ]
          },
          "metadata": {},
          "execution_count": 75
        }
      ]
    },
    {
      "cell_type": "code",
      "source": [
        "predic_Val = model.predict(X)"
      ],
      "metadata": {
        "id": "fPX0Neovn8RS"
      },
      "execution_count": 76,
      "outputs": []
    },
    {
      "cell_type": "code",
      "source": [
        "plt.scatter(X, y, color='blue')\n",
        "plt.plot(X,predic_Val,color='orange')"
      ],
      "metadata": {
        "colab": {
          "base_uri": "https://localhost:8080/",
          "height": 448
        },
        "id": "bzJq5vm5n_ER",
        "outputId": "c6775e8d-faf5-4a9b-e929-874dde97a735"
      },
      "execution_count": 77,
      "outputs": [
        {
          "output_type": "execute_result",
          "data": {
            "text/plain": [
              "[<matplotlib.lines.Line2D at 0x7b7194c56fe0>]"
            ]
          },
          "metadata": {},
          "execution_count": 77
        },
        {
          "output_type": "display_data",
          "data": {
            "text/plain": [
              "<Figure size 640x480 with 1 Axes>"
            ],
            "image/png": "[encoded data removed]"
          },
          "metadata": {}
        }
      ]
    },
    {
      "cell_type": "code",
      "source": [],
      "metadata": {
        "id": "lOM-UOgEoiD2"
      },
      "execution_count": 77,
      "outputs": []
    }
  ]
}